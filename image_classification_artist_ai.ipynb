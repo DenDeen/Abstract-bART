{
  "nbformat": 4,
  "nbformat_minor": 0,
  "metadata": {
    "colab": {
      "provenance": []
    },
    "kernelspec": {
      "name": "python3",
      "display_name": "Python 3"
    },
    "language_info": {
      "name": "python"
    },
    "gpuClass": "standard",
    "widgets": {
      "application/vnd.jupyter.widget-state+json": {
        "2b3ad5adb5454878b5325fd25f292063": {
          "model_module": "@jupyter-widgets/controls",
          "model_name": "HBoxModel",
          "model_module_version": "1.5.0",
          "state": {
            "_dom_classes": [],
            "_model_module": "@jupyter-widgets/controls",
            "_model_module_version": "1.5.0",
            "_model_name": "HBoxModel",
            "_view_count": null,
            "_view_module": "@jupyter-widgets/controls",
            "_view_module_version": "1.5.0",
            "_view_name": "HBoxView",
            "box_style": "",
            "children": [
              "IPY_MODEL_430d8d0e35ae4870be85423473505862",
              "IPY_MODEL_67e34e710657403cba8c7a119cf6ec82",
              "IPY_MODEL_b07328ddd6fa40e5ac697008c6450fc2"
            ],
            "layout": "IPY_MODEL_2b49bc67277c4dd58798dda27d7f71d6"
          }
        },
        "430d8d0e35ae4870be85423473505862": {
          "model_module": "@jupyter-widgets/controls",
          "model_name": "HTMLModel",
          "model_module_version": "1.5.0",
          "state": {
            "_dom_classes": [],
            "_model_module": "@jupyter-widgets/controls",
            "_model_module_version": "1.5.0",
            "_model_name": "HTMLModel",
            "_view_count": null,
            "_view_module": "@jupyter-widgets/controls",
            "_view_module_version": "1.5.0",
            "_view_name": "HTMLView",
            "description": "",
            "description_tooltip": null,
            "layout": "IPY_MODEL_c69e459db58548248def747487e67ffb",
            "placeholder": "​",
            "style": "IPY_MODEL_fcbaa6d216ba44529554668b7d9d5c26",
            "value": "100%"
          }
        },
        "67e34e710657403cba8c7a119cf6ec82": {
          "model_module": "@jupyter-widgets/controls",
          "model_name": "FloatProgressModel",
          "model_module_version": "1.5.0",
          "state": {
            "_dom_classes": [],
            "_model_module": "@jupyter-widgets/controls",
            "_model_module_version": "1.5.0",
            "_model_name": "FloatProgressModel",
            "_view_count": null,
            "_view_module": "@jupyter-widgets/controls",
            "_view_module_version": "1.5.0",
            "_view_name": "ProgressView",
            "bar_style": "success",
            "description": "",
            "description_tooltip": null,
            "layout": "IPY_MODEL_cf6dc604a0a24faf9de698237468a47a",
            "max": 4546,
            "min": 0,
            "orientation": "horizontal",
            "style": "IPY_MODEL_ba0e736508124586b88d5c4b8810c0d6",
            "value": 4546
          }
        },
        "b07328ddd6fa40e5ac697008c6450fc2": {
          "model_module": "@jupyter-widgets/controls",
          "model_name": "HTMLModel",
          "model_module_version": "1.5.0",
          "state": {
            "_dom_classes": [],
            "_model_module": "@jupyter-widgets/controls",
            "_model_module_version": "1.5.0",
            "_model_name": "HTMLModel",
            "_view_count": null,
            "_view_module": "@jupyter-widgets/controls",
            "_view_module_version": "1.5.0",
            "_view_name": "HTMLView",
            "description": "",
            "description_tooltip": null,
            "layout": "IPY_MODEL_42671d2c541a4ff29b5f0ea4327ac1fe",
            "placeholder": "​",
            "style": "IPY_MODEL_13c45417e8a0475a818f1821bc52a710",
            "value": " 4546/4546 [01:55&lt;00:00, 120.29it/s]"
          }
        },
        "2b49bc67277c4dd58798dda27d7f71d6": {
          "model_module": "@jupyter-widgets/base",
          "model_name": "LayoutModel",
          "model_module_version": "1.2.0",
          "state": {
            "_model_module": "@jupyter-widgets/base",
            "_model_module_version": "1.2.0",
            "_model_name": "LayoutModel",
            "_view_count": null,
            "_view_module": "@jupyter-widgets/base",
            "_view_module_version": "1.2.0",
            "_view_name": "LayoutView",
            "align_content": null,
            "align_items": null,
            "align_self": null,
            "border": null,
            "bottom": null,
            "display": null,
            "flex": null,
            "flex_flow": null,
            "grid_area": null,
            "grid_auto_columns": null,
            "grid_auto_flow": null,
            "grid_auto_rows": null,
            "grid_column": null,
            "grid_gap": null,
            "grid_row": null,
            "grid_template_areas": null,
            "grid_template_columns": null,
            "grid_template_rows": null,
            "height": null,
            "justify_content": null,
            "justify_items": null,
            "left": null,
            "margin": null,
            "max_height": null,
            "max_width": null,
            "min_height": null,
            "min_width": null,
            "object_fit": null,
            "object_position": null,
            "order": null,
            "overflow": null,
            "overflow_x": null,
            "overflow_y": null,
            "padding": null,
            "right": null,
            "top": null,
            "visibility": null,
            "width": null
          }
        },
        "c69e459db58548248def747487e67ffb": {
          "model_module": "@jupyter-widgets/base",
          "model_name": "LayoutModel",
          "model_module_version": "1.2.0",
          "state": {
            "_model_module": "@jupyter-widgets/base",
            "_model_module_version": "1.2.0",
            "_model_name": "LayoutModel",
            "_view_count": null,
            "_view_module": "@jupyter-widgets/base",
            "_view_module_version": "1.2.0",
            "_view_name": "LayoutView",
            "align_content": null,
            "align_items": null,
            "align_self": null,
            "border": null,
            "bottom": null,
            "display": null,
            "flex": null,
            "flex_flow": null,
            "grid_area": null,
            "grid_auto_columns": null,
            "grid_auto_flow": null,
            "grid_auto_rows": null,
            "grid_column": null,
            "grid_gap": null,
            "grid_row": null,
            "grid_template_areas": null,
            "grid_template_columns": null,
            "grid_template_rows": null,
            "height": null,
            "justify_content": null,
            "justify_items": null,
            "left": null,
            "margin": null,
            "max_height": null,
            "max_width": null,
            "min_height": null,
            "min_width": null,
            "object_fit": null,
            "object_position": null,
            "order": null,
            "overflow": null,
            "overflow_x": null,
            "overflow_y": null,
            "padding": null,
            "right": null,
            "top": null,
            "visibility": null,
            "width": null
          }
        },
        "fcbaa6d216ba44529554668b7d9d5c26": {
          "model_module": "@jupyter-widgets/controls",
          "model_name": "DescriptionStyleModel",
          "model_module_version": "1.5.0",
          "state": {
            "_model_module": "@jupyter-widgets/controls",
            "_model_module_version": "1.5.0",
            "_model_name": "DescriptionStyleModel",
            "_view_count": null,
            "_view_module": "@jupyter-widgets/base",
            "_view_module_version": "1.2.0",
            "_view_name": "StyleView",
            "description_width": ""
          }
        },
        "cf6dc604a0a24faf9de698237468a47a": {
          "model_module": "@jupyter-widgets/base",
          "model_name": "LayoutModel",
          "model_module_version": "1.2.0",
          "state": {
            "_model_module": "@jupyter-widgets/base",
            "_model_module_version": "1.2.0",
            "_model_name": "LayoutModel",
            "_view_count": null,
            "_view_module": "@jupyter-widgets/base",
            "_view_module_version": "1.2.0",
            "_view_name": "LayoutView",
            "align_content": null,
            "align_items": null,
            "align_self": null,
            "border": null,
            "bottom": null,
            "display": null,
            "flex": null,
            "flex_flow": null,
            "grid_area": null,
            "grid_auto_columns": null,
            "grid_auto_flow": null,
            "grid_auto_rows": null,
            "grid_column": null,
            "grid_gap": null,
            "grid_row": null,
            "grid_template_areas": null,
            "grid_template_columns": null,
            "grid_template_rows": null,
            "height": null,
            "justify_content": null,
            "justify_items": null,
            "left": null,
            "margin": null,
            "max_height": null,
            "max_width": null,
            "min_height": null,
            "min_width": null,
            "object_fit": null,
            "object_position": null,
            "order": null,
            "overflow": null,
            "overflow_x": null,
            "overflow_y": null,
            "padding": null,
            "right": null,
            "top": null,
            "visibility": null,
            "width": null
          }
        },
        "ba0e736508124586b88d5c4b8810c0d6": {
          "model_module": "@jupyter-widgets/controls",
          "model_name": "ProgressStyleModel",
          "model_module_version": "1.5.0",
          "state": {
            "_model_module": "@jupyter-widgets/controls",
            "_model_module_version": "1.5.0",
            "_model_name": "ProgressStyleModel",
            "_view_count": null,
            "_view_module": "@jupyter-widgets/base",
            "_view_module_version": "1.2.0",
            "_view_name": "StyleView",
            "bar_color": null,
            "description_width": ""
          }
        },
        "42671d2c541a4ff29b5f0ea4327ac1fe": {
          "model_module": "@jupyter-widgets/base",
          "model_name": "LayoutModel",
          "model_module_version": "1.2.0",
          "state": {
            "_model_module": "@jupyter-widgets/base",
            "_model_module_version": "1.2.0",
            "_model_name": "LayoutModel",
            "_view_count": null,
            "_view_module": "@jupyter-widgets/base",
            "_view_module_version": "1.2.0",
            "_view_name": "LayoutView",
            "align_content": null,
            "align_items": null,
            "align_self": null,
            "border": null,
            "bottom": null,
            "display": null,
            "flex": null,
            "flex_flow": null,
            "grid_area": null,
            "grid_auto_columns": null,
            "grid_auto_flow": null,
            "grid_auto_rows": null,
            "grid_column": null,
            "grid_gap": null,
            "grid_row": null,
            "grid_template_areas": null,
            "grid_template_columns": null,
            "grid_template_rows": null,
            "height": null,
            "justify_content": null,
            "justify_items": null,
            "left": null,
            "margin": null,
            "max_height": null,
            "max_width": null,
            "min_height": null,
            "min_width": null,
            "object_fit": null,
            "object_position": null,
            "order": null,
            "overflow": null,
            "overflow_x": null,
            "overflow_y": null,
            "padding": null,
            "right": null,
            "top": null,
            "visibility": null,
            "width": null
          }
        },
        "13c45417e8a0475a818f1821bc52a710": {
          "model_module": "@jupyter-widgets/controls",
          "model_name": "DescriptionStyleModel",
          "model_module_version": "1.5.0",
          "state": {
            "_model_module": "@jupyter-widgets/controls",
            "_model_module_version": "1.5.0",
            "_model_name": "DescriptionStyleModel",
            "_view_count": null,
            "_view_module": "@jupyter-widgets/base",
            "_view_module_version": "1.2.0",
            "_view_name": "StyleView",
            "description_width": ""
          }
        },
        "fb544a93fb1f49fe8c9c34d5e4c6eea9": {
          "model_module": "@jupyter-widgets/controls",
          "model_name": "HBoxModel",
          "model_module_version": "1.5.0",
          "state": {
            "_dom_classes": [],
            "_model_module": "@jupyter-widgets/controls",
            "_model_module_version": "1.5.0",
            "_model_name": "HBoxModel",
            "_view_count": null,
            "_view_module": "@jupyter-widgets/controls",
            "_view_module_version": "1.5.0",
            "_view_name": "HBoxView",
            "box_style": "",
            "children": [
              "IPY_MODEL_0e43737c4ef040eb8b349bfae140c485",
              "IPY_MODEL_46ab5b028a7346bba47fbea424beb7a6",
              "IPY_MODEL_41ae4a6905bf4e9c9c2549f065e557ab"
            ],
            "layout": "IPY_MODEL_f747cd7caa2c49fb87e2e80dfc2dbc76"
          }
        },
        "0e43737c4ef040eb8b349bfae140c485": {
          "model_module": "@jupyter-widgets/controls",
          "model_name": "HTMLModel",
          "model_module_version": "1.5.0",
          "state": {
            "_dom_classes": [],
            "_model_module": "@jupyter-widgets/controls",
            "_model_module_version": "1.5.0",
            "_model_name": "HTMLModel",
            "_view_count": null,
            "_view_module": "@jupyter-widgets/controls",
            "_view_module_version": "1.5.0",
            "_view_name": "HTMLView",
            "description": "",
            "description_tooltip": null,
            "layout": "IPY_MODEL_eed5324493ed49ff83046c776121ef27",
            "placeholder": "​",
            "style": "IPY_MODEL_6c2c0f30e808416fa8d43a14b01d2d89",
            "value": "100%"
          }
        },
        "46ab5b028a7346bba47fbea424beb7a6": {
          "model_module": "@jupyter-widgets/controls",
          "model_name": "FloatProgressModel",
          "model_module_version": "1.5.0",
          "state": {
            "_dom_classes": [],
            "_model_module": "@jupyter-widgets/controls",
            "_model_module_version": "1.5.0",
            "_model_name": "FloatProgressModel",
            "_view_count": null,
            "_view_module": "@jupyter-widgets/controls",
            "_view_module_version": "1.5.0",
            "_view_name": "ProgressView",
            "bar_style": "success",
            "description": "",
            "description_tooltip": null,
            "layout": "IPY_MODEL_0cf3627174be4e7db607198e652619af",
            "max": 5971,
            "min": 0,
            "orientation": "horizontal",
            "style": "IPY_MODEL_83c19d2077a84c769b971dc9288ff1b3",
            "value": 5971
          }
        },
        "41ae4a6905bf4e9c9c2549f065e557ab": {
          "model_module": "@jupyter-widgets/controls",
          "model_name": "HTMLModel",
          "model_module_version": "1.5.0",
          "state": {
            "_dom_classes": [],
            "_model_module": "@jupyter-widgets/controls",
            "_model_module_version": "1.5.0",
            "_model_name": "HTMLModel",
            "_view_count": null,
            "_view_module": "@jupyter-widgets/controls",
            "_view_module_version": "1.5.0",
            "_view_name": "HTMLView",
            "description": "",
            "description_tooltip": null,
            "layout": "IPY_MODEL_30ade9069d1d4b42b2ebb429ecdea3f5",
            "placeholder": "​",
            "style": "IPY_MODEL_cadf9377134248c5b018e2476fa67bf7",
            "value": " 5971/5971 [00:50&lt;00:00, 155.14it/s]"
          }
        },
        "f747cd7caa2c49fb87e2e80dfc2dbc76": {
          "model_module": "@jupyter-widgets/base",
          "model_name": "LayoutModel",
          "model_module_version": "1.2.0",
          "state": {
            "_model_module": "@jupyter-widgets/base",
            "_model_module_version": "1.2.0",
            "_model_name": "LayoutModel",
            "_view_count": null,
            "_view_module": "@jupyter-widgets/base",
            "_view_module_version": "1.2.0",
            "_view_name": "LayoutView",
            "align_content": null,
            "align_items": null,
            "align_self": null,
            "border": null,
            "bottom": null,
            "display": null,
            "flex": null,
            "flex_flow": null,
            "grid_area": null,
            "grid_auto_columns": null,
            "grid_auto_flow": null,
            "grid_auto_rows": null,
            "grid_column": null,
            "grid_gap": null,
            "grid_row": null,
            "grid_template_areas": null,
            "grid_template_columns": null,
            "grid_template_rows": null,
            "height": null,
            "justify_content": null,
            "justify_items": null,
            "left": null,
            "margin": null,
            "max_height": null,
            "max_width": null,
            "min_height": null,
            "min_width": null,
            "object_fit": null,
            "object_position": null,
            "order": null,
            "overflow": null,
            "overflow_x": null,
            "overflow_y": null,
            "padding": null,
            "right": null,
            "top": null,
            "visibility": null,
            "width": null
          }
        },
        "eed5324493ed49ff83046c776121ef27": {
          "model_module": "@jupyter-widgets/base",
          "model_name": "LayoutModel",
          "model_module_version": "1.2.0",
          "state": {
            "_model_module": "@jupyter-widgets/base",
            "_model_module_version": "1.2.0",
            "_model_name": "LayoutModel",
            "_view_count": null,
            "_view_module": "@jupyter-widgets/base",
            "_view_module_version": "1.2.0",
            "_view_name": "LayoutView",
            "align_content": null,
            "align_items": null,
            "align_self": null,
            "border": null,
            "bottom": null,
            "display": null,
            "flex": null,
            "flex_flow": null,
            "grid_area": null,
            "grid_auto_columns": null,
            "grid_auto_flow": null,
            "grid_auto_rows": null,
            "grid_column": null,
            "grid_gap": null,
            "grid_row": null,
            "grid_template_areas": null,
            "grid_template_columns": null,
            "grid_template_rows": null,
            "height": null,
            "justify_content": null,
            "justify_items": null,
            "left": null,
            "margin": null,
            "max_height": null,
            "max_width": null,
            "min_height": null,
            "min_width": null,
            "object_fit": null,
            "object_position": null,
            "order": null,
            "overflow": null,
            "overflow_x": null,
            "overflow_y": null,
            "padding": null,
            "right": null,
            "top": null,
            "visibility": null,
            "width": null
          }
        },
        "6c2c0f30e808416fa8d43a14b01d2d89": {
          "model_module": "@jupyter-widgets/controls",
          "model_name": "DescriptionStyleModel",
          "model_module_version": "1.5.0",
          "state": {
            "_model_module": "@jupyter-widgets/controls",
            "_model_module_version": "1.5.0",
            "_model_name": "DescriptionStyleModel",
            "_view_count": null,
            "_view_module": "@jupyter-widgets/base",
            "_view_module_version": "1.2.0",
            "_view_name": "StyleView",
            "description_width": ""
          }
        },
        "0cf3627174be4e7db607198e652619af": {
          "model_module": "@jupyter-widgets/base",
          "model_name": "LayoutModel",
          "model_module_version": "1.2.0",
          "state": {
            "_model_module": "@jupyter-widgets/base",
            "_model_module_version": "1.2.0",
            "_model_name": "LayoutModel",
            "_view_count": null,
            "_view_module": "@jupyter-widgets/base",
            "_view_module_version": "1.2.0",
            "_view_name": "LayoutView",
            "align_content": null,
            "align_items": null,
            "align_self": null,
            "border": null,
            "bottom": null,
            "display": null,
            "flex": null,
            "flex_flow": null,
            "grid_area": null,
            "grid_auto_columns": null,
            "grid_auto_flow": null,
            "grid_auto_rows": null,
            "grid_column": null,
            "grid_gap": null,
            "grid_row": null,
            "grid_template_areas": null,
            "grid_template_columns": null,
            "grid_template_rows": null,
            "height": null,
            "justify_content": null,
            "justify_items": null,
            "left": null,
            "margin": null,
            "max_height": null,
            "max_width": null,
            "min_height": null,
            "min_width": null,
            "object_fit": null,
            "object_position": null,
            "order": null,
            "overflow": null,
            "overflow_x": null,
            "overflow_y": null,
            "padding": null,
            "right": null,
            "top": null,
            "visibility": null,
            "width": null
          }
        },
        "83c19d2077a84c769b971dc9288ff1b3": {
          "model_module": "@jupyter-widgets/controls",
          "model_name": "ProgressStyleModel",
          "model_module_version": "1.5.0",
          "state": {
            "_model_module": "@jupyter-widgets/controls",
            "_model_module_version": "1.5.0",
            "_model_name": "ProgressStyleModel",
            "_view_count": null,
            "_view_module": "@jupyter-widgets/base",
            "_view_module_version": "1.2.0",
            "_view_name": "StyleView",
            "bar_color": null,
            "description_width": ""
          }
        },
        "30ade9069d1d4b42b2ebb429ecdea3f5": {
          "model_module": "@jupyter-widgets/base",
          "model_name": "LayoutModel",
          "model_module_version": "1.2.0",
          "state": {
            "_model_module": "@jupyter-widgets/base",
            "_model_module_version": "1.2.0",
            "_model_name": "LayoutModel",
            "_view_count": null,
            "_view_module": "@jupyter-widgets/base",
            "_view_module_version": "1.2.0",
            "_view_name": "LayoutView",
            "align_content": null,
            "align_items": null,
            "align_self": null,
            "border": null,
            "bottom": null,
            "display": null,
            "flex": null,
            "flex_flow": null,
            "grid_area": null,
            "grid_auto_columns": null,
            "grid_auto_flow": null,
            "grid_auto_rows": null,
            "grid_column": null,
            "grid_gap": null,
            "grid_row": null,
            "grid_template_areas": null,
            "grid_template_columns": null,
            "grid_template_rows": null,
            "height": null,
            "justify_content": null,
            "justify_items": null,
            "left": null,
            "margin": null,
            "max_height": null,
            "max_width": null,
            "min_height": null,
            "min_width": null,
            "object_fit": null,
            "object_position": null,
            "order": null,
            "overflow": null,
            "overflow_x": null,
            "overflow_y": null,
            "padding": null,
            "right": null,
            "top": null,
            "visibility": null,
            "width": null
          }
        },
        "cadf9377134248c5b018e2476fa67bf7": {
          "model_module": "@jupyter-widgets/controls",
          "model_name": "DescriptionStyleModel",
          "model_module_version": "1.5.0",
          "state": {
            "_model_module": "@jupyter-widgets/controls",
            "_model_module_version": "1.5.0",
            "_model_name": "DescriptionStyleModel",
            "_view_count": null,
            "_view_module": "@jupyter-widgets/base",
            "_view_module_version": "1.2.0",
            "_view_name": "StyleView",
            "description_width": ""
          }
        },
        "276fb8960115446b9a38664e49aca4c8": {
          "model_module": "@jupyter-widgets/controls",
          "model_name": "HBoxModel",
          "model_module_version": "1.5.0",
          "state": {
            "_dom_classes": [],
            "_model_module": "@jupyter-widgets/controls",
            "_model_module_version": "1.5.0",
            "_model_name": "HBoxModel",
            "_view_count": null,
            "_view_module": "@jupyter-widgets/controls",
            "_view_module_version": "1.5.0",
            "_view_name": "HBoxView",
            "box_style": "",
            "children": [
              "IPY_MODEL_34f16d47333349cbacefe7c632adf5d4",
              "IPY_MODEL_d15b7e1b0bac4e7caea2f07cb8ba302c",
              "IPY_MODEL_f381501c03234fdbb99e81b37902355d"
            ],
            "layout": "IPY_MODEL_6a2bf96e50ec4322b9e2fa8e82a808d1"
          }
        },
        "34f16d47333349cbacefe7c632adf5d4": {
          "model_module": "@jupyter-widgets/controls",
          "model_name": "HTMLModel",
          "model_module_version": "1.5.0",
          "state": {
            "_dom_classes": [],
            "_model_module": "@jupyter-widgets/controls",
            "_model_module_version": "1.5.0",
            "_model_name": "HTMLModel",
            "_view_count": null,
            "_view_module": "@jupyter-widgets/controls",
            "_view_module_version": "1.5.0",
            "_view_name": "HTMLView",
            "description": "",
            "description_tooltip": null,
            "layout": "IPY_MODEL_f4500edaf19a40f6ad2dd62048bd404c",
            "placeholder": "​",
            "style": "IPY_MODEL_330335822c5948fb8ea4ec0021dca51f",
            "value": "100%"
          }
        },
        "d15b7e1b0bac4e7caea2f07cb8ba302c": {
          "model_module": "@jupyter-widgets/controls",
          "model_name": "FloatProgressModel",
          "model_module_version": "1.5.0",
          "state": {
            "_dom_classes": [],
            "_model_module": "@jupyter-widgets/controls",
            "_model_module_version": "1.5.0",
            "_model_name": "FloatProgressModel",
            "_view_count": null,
            "_view_module": "@jupyter-widgets/controls",
            "_view_module_version": "1.5.0",
            "_view_name": "ProgressView",
            "bar_style": "success",
            "description": "",
            "description_tooltip": null,
            "layout": "IPY_MODEL_86847cd3b599433cbb45fa18230f9749",
            "max": 3446,
            "min": 0,
            "orientation": "horizontal",
            "style": "IPY_MODEL_bc3b60ee08ab4ee695c238f0dc2c1a69",
            "value": 3446
          }
        },
        "f381501c03234fdbb99e81b37902355d": {
          "model_module": "@jupyter-widgets/controls",
          "model_name": "HTMLModel",
          "model_module_version": "1.5.0",
          "state": {
            "_dom_classes": [],
            "_model_module": "@jupyter-widgets/controls",
            "_model_module_version": "1.5.0",
            "_model_name": "HTMLModel",
            "_view_count": null,
            "_view_module": "@jupyter-widgets/controls",
            "_view_module_version": "1.5.0",
            "_view_name": "HTMLView",
            "description": "",
            "description_tooltip": null,
            "layout": "IPY_MODEL_4cef58847fe640d69aa4bc64d6a9fd66",
            "placeholder": "​",
            "style": "IPY_MODEL_d04466afa3da40c69b494948d69a6697",
            "value": " 3446/3446 [00:53&lt;00:00, 173.02it/s]"
          }
        },
        "6a2bf96e50ec4322b9e2fa8e82a808d1": {
          "model_module": "@jupyter-widgets/base",
          "model_name": "LayoutModel",
          "model_module_version": "1.2.0",
          "state": {
            "_model_module": "@jupyter-widgets/base",
            "_model_module_version": "1.2.0",
            "_model_name": "LayoutModel",
            "_view_count": null,
            "_view_module": "@jupyter-widgets/base",
            "_view_module_version": "1.2.0",
            "_view_name": "LayoutView",
            "align_content": null,
            "align_items": null,
            "align_self": null,
            "border": null,
            "bottom": null,
            "display": null,
            "flex": null,
            "flex_flow": null,
            "grid_area": null,
            "grid_auto_columns": null,
            "grid_auto_flow": null,
            "grid_auto_rows": null,
            "grid_column": null,
            "grid_gap": null,
            "grid_row": null,
            "grid_template_areas": null,
            "grid_template_columns": null,
            "grid_template_rows": null,
            "height": null,
            "justify_content": null,
            "justify_items": null,
            "left": null,
            "margin": null,
            "max_height": null,
            "max_width": null,
            "min_height": null,
            "min_width": null,
            "object_fit": null,
            "object_position": null,
            "order": null,
            "overflow": null,
            "overflow_x": null,
            "overflow_y": null,
            "padding": null,
            "right": null,
            "top": null,
            "visibility": null,
            "width": null
          }
        },
        "f4500edaf19a40f6ad2dd62048bd404c": {
          "model_module": "@jupyter-widgets/base",
          "model_name": "LayoutModel",
          "model_module_version": "1.2.0",
          "state": {
            "_model_module": "@jupyter-widgets/base",
            "_model_module_version": "1.2.0",
            "_model_name": "LayoutModel",
            "_view_count": null,
            "_view_module": "@jupyter-widgets/base",
            "_view_module_version": "1.2.0",
            "_view_name": "LayoutView",
            "align_content": null,
            "align_items": null,
            "align_self": null,
            "border": null,
            "bottom": null,
            "display": null,
            "flex": null,
            "flex_flow": null,
            "grid_area": null,
            "grid_auto_columns": null,
            "grid_auto_flow": null,
            "grid_auto_rows": null,
            "grid_column": null,
            "grid_gap": null,
            "grid_row": null,
            "grid_template_areas": null,
            "grid_template_columns": null,
            "grid_template_rows": null,
            "height": null,
            "justify_content": null,
            "justify_items": null,
            "left": null,
            "margin": null,
            "max_height": null,
            "max_width": null,
            "min_height": null,
            "min_width": null,
            "object_fit": null,
            "object_position": null,
            "order": null,
            "overflow": null,
            "overflow_x": null,
            "overflow_y": null,
            "padding": null,
            "right": null,
            "top": null,
            "visibility": null,
            "width": null
          }
        },
        "330335822c5948fb8ea4ec0021dca51f": {
          "model_module": "@jupyter-widgets/controls",
          "model_name": "DescriptionStyleModel",
          "model_module_version": "1.5.0",
          "state": {
            "_model_module": "@jupyter-widgets/controls",
            "_model_module_version": "1.5.0",
            "_model_name": "DescriptionStyleModel",
            "_view_count": null,
            "_view_module": "@jupyter-widgets/base",
            "_view_module_version": "1.2.0",
            "_view_name": "StyleView",
            "description_width": ""
          }
        },
        "86847cd3b599433cbb45fa18230f9749": {
          "model_module": "@jupyter-widgets/base",
          "model_name": "LayoutModel",
          "model_module_version": "1.2.0",
          "state": {
            "_model_module": "@jupyter-widgets/base",
            "_model_module_version": "1.2.0",
            "_model_name": "LayoutModel",
            "_view_count": null,
            "_view_module": "@jupyter-widgets/base",
            "_view_module_version": "1.2.0",
            "_view_name": "LayoutView",
            "align_content": null,
            "align_items": null,
            "align_self": null,
            "border": null,
            "bottom": null,
            "display": null,
            "flex": null,
            "flex_flow": null,
            "grid_area": null,
            "grid_auto_columns": null,
            "grid_auto_flow": null,
            "grid_auto_rows": null,
            "grid_column": null,
            "grid_gap": null,
            "grid_row": null,
            "grid_template_areas": null,
            "grid_template_columns": null,
            "grid_template_rows": null,
            "height": null,
            "justify_content": null,
            "justify_items": null,
            "left": null,
            "margin": null,
            "max_height": null,
            "max_width": null,
            "min_height": null,
            "min_width": null,
            "object_fit": null,
            "object_position": null,
            "order": null,
            "overflow": null,
            "overflow_x": null,
            "overflow_y": null,
            "padding": null,
            "right": null,
            "top": null,
            "visibility": null,
            "width": null
          }
        },
        "bc3b60ee08ab4ee695c238f0dc2c1a69": {
          "model_module": "@jupyter-widgets/controls",
          "model_name": "ProgressStyleModel",
          "model_module_version": "1.5.0",
          "state": {
            "_model_module": "@jupyter-widgets/controls",
            "_model_module_version": "1.5.0",
            "_model_name": "ProgressStyleModel",
            "_view_count": null,
            "_view_module": "@jupyter-widgets/base",
            "_view_module_version": "1.2.0",
            "_view_name": "StyleView",
            "bar_color": null,
            "description_width": ""
          }
        },
        "4cef58847fe640d69aa4bc64d6a9fd66": {
          "model_module": "@jupyter-widgets/base",
          "model_name": "LayoutModel",
          "model_module_version": "1.2.0",
          "state": {
            "_model_module": "@jupyter-widgets/base",
            "_model_module_version": "1.2.0",
            "_model_name": "LayoutModel",
            "_view_count": null,
            "_view_module": "@jupyter-widgets/base",
            "_view_module_version": "1.2.0",
            "_view_name": "LayoutView",
            "align_content": null,
            "align_items": null,
            "align_self": null,
            "border": null,
            "bottom": null,
            "display": null,
            "flex": null,
            "flex_flow": null,
            "grid_area": null,
            "grid_auto_columns": null,
            "grid_auto_flow": null,
            "grid_auto_rows": null,
            "grid_column": null,
            "grid_gap": null,
            "grid_row": null,
            "grid_template_areas": null,
            "grid_template_columns": null,
            "grid_template_rows": null,
            "height": null,
            "justify_content": null,
            "justify_items": null,
            "left": null,
            "margin": null,
            "max_height": null,
            "max_width": null,
            "min_height": null,
            "min_width": null,
            "object_fit": null,
            "object_position": null,
            "order": null,
            "overflow": null,
            "overflow_x": null,
            "overflow_y": null,
            "padding": null,
            "right": null,
            "top": null,
            "visibility": null,
            "width": null
          }
        },
        "d04466afa3da40c69b494948d69a6697": {
          "model_module": "@jupyter-widgets/controls",
          "model_name": "DescriptionStyleModel",
          "model_module_version": "1.5.0",
          "state": {
            "_model_module": "@jupyter-widgets/controls",
            "_model_module_version": "1.5.0",
            "_model_name": "DescriptionStyleModel",
            "_view_count": null,
            "_view_module": "@jupyter-widgets/base",
            "_view_module_version": "1.2.0",
            "_view_name": "StyleView",
            "description_width": ""
          }
        }
      }
    }
  },
  "cells": [
    {
      "cell_type": "code",
      "execution_count": null,
      "metadata": {
        "colab": {
          "base_uri": "https://localhost:8080/"
        },
        "id": "Jqt3-gqpW9CH",
        "outputId": "83a7535b-89fb-47ca-8bc3-7eb3bedf2d40"
      },
      "outputs": [
        {
          "output_type": "stream",
          "name": "stderr",
          "text": [
            "<ipython-input-1-9327b8d1444c>:7: TqdmDeprecationWarning: This function will be removed in tqdm==5.0.0\n",
            "Please use `tqdm.notebook.*` instead of `tqdm._tqdm_notebook.*`\n",
            "  from tqdm._tqdm_notebook import tqdm_notebook as tqdm\n"
          ]
        }
      ],
      "source": [
        "import matplotlib.pyplot as plt\n",
        "import requests\n",
        "from PIL import Image\n",
        "import pandas as pd\n",
        "from sklearn.model_selection import train_test_split\n",
        "import cv2\n",
        "from tqdm._tqdm_notebook import tqdm_notebook as tqdm\n",
        "import os \n",
        "import numpy as np\n",
        "import tensorflow as tf\n",
        "from sklearn import preprocessing\n",
        "from keras.preprocessing.image import ImageDataGenerator\n",
        "from tensorflow.keras.callbacks import EarlyStopping\n",
        "from keras.regularizers import l2\n",
        "from keras.layers import Convolution2D, Dropout, Dense, Flatten, Activation, GlobalAveragePooling2D\n",
        "from keras.models import Sequential\n",
        "from keras.models import Model,  load_model\n",
        "from tensorflow.keras.applications.resnet import preprocess_input\n",
        "from sklearn.utils.class_weight import compute_sample_weight\n",
        "from sklearn.utils import class_weight\n",
        "from keras.metrics import Precision, Recall\n",
        "from sklearn.metrics import roc_auc_score\n",
        "from keras.applications.resnet50 import decode_predictions"
      ]
    },
    {
      "cell_type": "code",
      "source": [
        "artworks_df = pd.read_parquet('https://kuleuven-datathon-2023.s3.eu-central-1.amazonaws.com/data/Artwork.parquet.gzip')\n",
        "generated_df = pd.read_parquet('https://kuleuven-datathon-2023.s3.eu-central-1.amazonaws.com/data/Generated.parquet.gzip')"
      ],
      "metadata": {
        "id": "n6r7vkmqW9fD"
      },
      "execution_count": null,
      "outputs": []
    },
    {
      "cell_type": "code",
      "source": [
        "artworks_df = artworks_df[artworks_df['rating']>0 ]"
      ],
      "metadata": {
        "id": "BLqSzPbfJtbl"
      },
      "execution_count": null,
      "outputs": []
    },
    {
      "cell_type": "code",
      "source": [
        "from google.colab import drive\n",
        "drive.mount('/content/drive')"
      ],
      "metadata": {
        "colab": {
          "base_uri": "https://localhost:8080/"
        },
        "id": "yKKmgcluXJdR",
        "outputId": "65c5b793-211a-48cf-f56f-4e6fbada0a7e"
      },
      "execution_count": null,
      "outputs": [
        {
          "output_type": "stream",
          "name": "stdout",
          "text": [
            "Mounted at /content/drive\n"
          ]
        }
      ]
    },
    {
      "cell_type": "code",
      "source": [
        "# https://drive.google.com/drive/folders/1O22SRGsRG4RWNEk0zj84Orda4Xs3d8fU?usp=sharing\n",
        "os.chdir('/content/drive/MyDrive/datathon_images_23/rt/')\n",
        "x_img = []\n",
        "for i in tqdm(os.listdir()):\n",
        "      img = cv2.imread(i)   \n",
        "      img = cv2.resize(img,(224,224)) # The VGG model just accept images on the 224x224 format\n",
        "      x_img.append(img)"
      ],
      "metadata": {
        "colab": {
          "base_uri": "https://localhost:8080/",
          "height": 49,
          "referenced_widgets": [
            "2b3ad5adb5454878b5325fd25f292063",
            "430d8d0e35ae4870be85423473505862",
            "67e34e710657403cba8c7a119cf6ec82",
            "b07328ddd6fa40e5ac697008c6450fc2",
            "2b49bc67277c4dd58798dda27d7f71d6",
            "c69e459db58548248def747487e67ffb",
            "fcbaa6d216ba44529554668b7d9d5c26",
            "cf6dc604a0a24faf9de698237468a47a",
            "ba0e736508124586b88d5c4b8810c0d6",
            "42671d2c541a4ff29b5f0ea4327ac1fe",
            "13c45417e8a0475a818f1821bc52a710"
          ]
        },
        "id": "8-7VZnQFXP2c",
        "outputId": "53b52772-380f-43a5-c7e3-254f798b8823"
      },
      "execution_count": null,
      "outputs": [
        {
          "output_type": "display_data",
          "data": {
            "text/plain": [
              "  0%|          | 0/4546 [00:00<?, ?it/s]"
            ],
            "application/vnd.jupyter.widget-view+json": {
              "version_major": 2,
              "version_minor": 0,
              "model_id": "2b3ad5adb5454878b5325fd25f292063"
            }
          },
          "metadata": {}
        }
      ]
    },
    {
      "cell_type": "code",
      "source": [
        "# https://drive.google.com/drive/folders/1McDyyAV7Lx4QnCWuqWQos-rQKs6DlG7k?usp=sharing\n",
        "#os.chdir('/content/drive/MyDrive/datathon_images_23/no_rt/')\n",
        "#x_img_no_rt = []\n",
        "#for i in tqdm(os.listdir()):\n",
        "#      img = cv2.imread(i)   \n",
        "#      img = cv2.resize(img,(224,224)) # The VGG model just accept images on the 224x224 format\n",
        "#      x_img_no_rt.append(img)"
      ],
      "metadata": {
        "colab": {
          "base_uri": "https://localhost:8080/",
          "height": 49,
          "referenced_widgets": [
            "fb544a93fb1f49fe8c9c34d5e4c6eea9",
            "0e43737c4ef040eb8b349bfae140c485",
            "46ab5b028a7346bba47fbea424beb7a6",
            "41ae4a6905bf4e9c9c2549f065e557ab",
            "f747cd7caa2c49fb87e2e80dfc2dbc76",
            "eed5324493ed49ff83046c776121ef27",
            "6c2c0f30e808416fa8d43a14b01d2d89",
            "0cf3627174be4e7db607198e652619af",
            "83c19d2077a84c769b971dc9288ff1b3",
            "30ade9069d1d4b42b2ebb429ecdea3f5",
            "cadf9377134248c5b018e2476fa67bf7"
          ]
        },
        "id": "pcxA45ws7HR8",
        "outputId": "7f56af98-a338-4ea8-8a31-848e07053c7d"
      },
      "execution_count": null,
      "outputs": [
        {
          "output_type": "display_data",
          "data": {
            "text/plain": [
              "  0%|          | 0/5971 [00:00<?, ?it/s]"
            ],
            "application/vnd.jupyter.widget-view+json": {
              "version_major": 2,
              "version_minor": 0,
              "model_id": "fb544a93fb1f49fe8c9c34d5e4c6eea9"
            }
          },
          "metadata": {}
        }
      ]
    },
    {
      "cell_type": "code",
      "source": [
        "# https://drive.google.com/drive/folders/1uv5v2qZco7KYuGAxhgVz5OTMah9RcLXB?usp=sharing\n",
        "os.chdir('/content/drive/MyDrive/datathon_images_23/AI/')\n",
        "x_img_ai = []\n",
        "for i in tqdm(os.listdir()):\n",
        "      img = cv2.imread(i)   \n",
        "      img = cv2.resize(img,(224,224)) # The VGG model just accept images on the 224x224 format\n",
        "      x_img_ai.append(img)"
      ],
      "metadata": {
        "colab": {
          "base_uri": "https://localhost:8080/",
          "height": 49,
          "referenced_widgets": [
            "276fb8960115446b9a38664e49aca4c8",
            "34f16d47333349cbacefe7c632adf5d4",
            "d15b7e1b0bac4e7caea2f07cb8ba302c",
            "f381501c03234fdbb99e81b37902355d",
            "6a2bf96e50ec4322b9e2fa8e82a808d1",
            "f4500edaf19a40f6ad2dd62048bd404c",
            "330335822c5948fb8ea4ec0021dca51f",
            "86847cd3b599433cbb45fa18230f9749",
            "bc3b60ee08ab4ee695c238f0dc2c1a69",
            "4cef58847fe640d69aa4bc64d6a9fd66",
            "d04466afa3da40c69b494948d69a6697"
          ]
        },
        "id": "19p9AcKMYLic",
        "outputId": "56566d9d-5891-4eda-872d-5f7f6ece8ddf"
      },
      "execution_count": null,
      "outputs": [
        {
          "output_type": "display_data",
          "data": {
            "text/plain": [
              "  0%|          | 0/3446 [00:00<?, ?it/s]"
            ],
            "application/vnd.jupyter.widget-view+json": {
              "version_major": 2,
              "version_minor": 0,
              "model_id": "276fb8960115446b9a38664e49aca4c8"
            }
          },
          "metadata": {}
        }
      ]
    },
    {
      "cell_type": "code",
      "source": [
        "x_joined = x_img +  x_img_ai # +    x_img_no_rt "
      ],
      "metadata": {
        "id": "r-5SqgVaZlbl"
      },
      "execution_count": null,
      "outputs": []
    },
    {
      "cell_type": "code",
      "source": [
        "y_joined = np.concatenate((np.repeat(1, len(artworks_df), axis=0), \n",
        "                           np.repeat(0, len(generated_df)-1, axis=0)) )"
      ],
      "metadata": {
        "id": "Zwi3x9gPZXVq"
      },
      "execution_count": null,
      "outputs": []
    },
    {
      "cell_type": "code",
      "source": [
        "# Split the data into train and test sets (80-20 split)\n",
        "x_trainval, x_test, y_trainval, y_test = train_test_split(x_joined, y_joined, test_size=0.2, random_state=10)\n",
        "\n",
        "# Split the train set into train and validation sets (75-25 split)\n",
        "x_train, x_val, y_train, y_val = train_test_split(x_trainval, y_trainval, test_size=0.25, random_state=10)\n"
      ],
      "metadata": {
        "id": "C29nzzMTYQEV"
      },
      "execution_count": null,
      "outputs": []
    },
    {
      "cell_type": "code",
      "source": [
        "# Compute class weights\n",
        "class_weights = class_weight.compute_class_weight(\n",
        "                                        class_weight = \"balanced\",\n",
        "                                        classes = np.unique(y_train),\n",
        "                                        y = y_train                                                    \n",
        "                                    )\n",
        "\n",
        "# Convert class weights to a dictionary for use in model.fit()\n",
        "class_weights_dict = dict(enumerate(class_weights))"
      ],
      "metadata": {
        "id": "CQfsYsh9bGyw"
      },
      "execution_count": null,
      "outputs": []
    },
    {
      "cell_type": "code",
      "source": [
        "le = preprocessing.LabelEncoder()\n",
        "y_train = le.fit_transform(y_train)\n",
        "y_val = le.fit_transform(y_val)\n",
        "y_train = tf.keras.utils.to_categorical(y_train, num_classes=2)\n",
        "y_val = tf.keras.utils.to_categorical(y_val, num_classes=2)"
      ],
      "metadata": {
        "id": "DU6-FJ1FZ9pV"
      },
      "execution_count": null,
      "outputs": []
    },
    {
      "cell_type": "code",
      "source": [
        "x_train = np.array(x_train)\n",
        "x_val = np.array(x_val) \n",
        "y_train = np.array(y_train)\n",
        "y_val = np.array(y_val)"
      ],
      "metadata": {
        "id": "EUjg-RdGaqFT"
      },
      "execution_count": null,
      "outputs": []
    },
    {
      "cell_type": "code",
      "source": [
        "print(\"x_train Shape: \", x_train.shape) \n",
        "print(\"x_val Shape: \", x_val.shape)\n",
        "print(\"y_train Shape: \", y_train.shape) \n",
        "print(\"y_val Shape: \", y_val.shape)"
      ],
      "metadata": {
        "colab": {
          "base_uri": "https://localhost:8080/"
        },
        "id": "GoVVtNsca10C",
        "outputId": "c8cfcb88-e092-474e-8f75-cb1addf677a5"
      },
      "execution_count": null,
      "outputs": [
        {
          "output_type": "stream",
          "name": "stdout",
          "text": [
            "x_train Shape:  (4794, 224, 224, 3)\n",
            "x_val Shape:  (1599, 224, 224, 3)\n",
            "y_train Shape:  (4794, 2)\n",
            "y_val Shape:  (1599, 2)\n"
          ]
        }
      ]
    },
    {
      "cell_type": "code",
      "source": [
        "# Data Augmentation\n",
        "train_datagen = ImageDataGenerator(\n",
        "    preprocessing_function=preprocess_input,\n",
        "    shear_range=0.2,\n",
        "    zoom_range=0.2,\n",
        "    horizontal_flip=True \n",
        ")"
      ],
      "metadata": {
        "id": "iWGNTF1ja31x"
      },
      "execution_count": null,
      "outputs": []
    },
    {
      "cell_type": "code",
      "source": [
        "# Data Augmentation\n",
        "\n",
        "val_datagen = ImageDataGenerator(preprocessing_function=preprocess_input)\n",
        " "
      ],
      "metadata": {
        "id": "kdi2uaB3bFIf"
      },
      "execution_count": null,
      "outputs": []
    },
    {
      "cell_type": "code",
      "source": [
        "# Define the pre-trained model\n",
        "pretrained_model = tf.keras.applications.ResNet50(weights='imagenet', include_top=False, input_shape=(224, 224, 3))\n",
        "\n",
        "# Freeze the pre-trained layers\n",
        "for layer in pretrained_model.layers:\n",
        "    layer.trainable = False\n"
      ],
      "metadata": {
        "colab": {
          "base_uri": "https://localhost:8080/"
        },
        "id": "fPhihXhdbP9f",
        "outputId": "1cad8d6f-94f7-478c-f923-d4746f4560b9"
      },
      "execution_count": null,
      "outputs": [
        {
          "output_type": "stream",
          "name": "stdout",
          "text": [
            "Downloading data from https://storage.googleapis.com/tensorflow/keras-applications/resnet/resnet50_weights_tf_dim_ordering_tf_kernels_notop.h5\n",
            "94765736/94765736 [==============================] - 1s 0us/step\n"
          ]
        }
      ]
    },
    {
      "cell_type": "code",
      "source": [
        "# Add a custom output layer for classification\n",
        "resnet = pretrained_model.output\n",
        "resnet = tf.keras.layers.GlobalAveragePooling2D()(resnet)\n",
        "resnet  = tf.keras.layers.Dense(2, activation='softmax')(resnet)"
      ],
      "metadata": {
        "id": "zGt2f3UWbgNj"
      },
      "execution_count": null,
      "outputs": []
    },
    {
      "cell_type": "code",
      "source": [
        "# Define the model\n",
        "model_resnet = tf.keras.Model(inputs=pretrained_model.input, outputs=resnet)"
      ],
      "metadata": {
        "id": "gPERcv62bkQ2"
      },
      "execution_count": null,
      "outputs": []
    },
    {
      "cell_type": "code",
      "source": [
        "# Compile the model with mean squared error loss and mean absolute error metric\n",
        "model_resnet.compile(optimizer='adam', loss='binary_crossentropy', metrics=['accuracy', Precision(), Recall(), 'AUC'])"
      ],
      "metadata": {
        "id": "jNfHPsPGb9sR"
      },
      "execution_count": null,
      "outputs": []
    },
    {
      "cell_type": "code",
      "source": [
        "# add early stopping callback\n",
        "early_stopping = EarlyStopping(monitor='val_accuracy', patience=5)"
      ],
      "metadata": {
        "id": "xZKmIyc7b9vY"
      },
      "execution_count": null,
      "outputs": []
    },
    {
      "cell_type": "code",
      "source": [
        "# Train the model with the ImageDataGenerator\n",
        "history = model_resnet.fit(\n",
        "    train_datagen.flow(x_train, y_train, batch_size=60),\n",
        "    epochs=20,\n",
        "    steps_per_epoch = len(x_train) // 60,\n",
        "    validation_data= val_datagen.flow(x_val, y_val, batch_size=60),\n",
        "    validation_steps  =len(x_val) // 60,\n",
        "    callbacks=[early_stopping],\n",
        "    class_weight=class_weights_dict\n",
        ")"
      ],
      "metadata": {
        "colab": {
          "base_uri": "https://localhost:8080/"
        },
        "id": "nk82Wd9Sb97n",
        "outputId": "916edb50-6d3a-4afa-bb47-01087d90bbc1"
      },
      "execution_count": null,
      "outputs": [
        {
          "output_type": "stream",
          "name": "stdout",
          "text": [
            "Epoch 1/20\n",
            "79/79 [==============================] - 75s 777ms/step - loss: 0.4236 - accuracy: 0.8158 - precision: 0.8158 - recall: 0.8158 - auc: 0.9033 - val_loss: 0.2286 - val_accuracy: 0.9269 - val_precision: 0.9269 - val_recall: 0.9269 - val_auc: 0.9761\n",
            "Epoch 2/20\n",
            "79/79 [==============================] - 62s 776ms/step - loss: 0.2227 - accuracy: 0.9214 - precision: 0.9214 - recall: 0.9214 - auc: 0.9762 - val_loss: 0.1660 - val_accuracy: 0.9474 - val_precision: 0.9474 - val_recall: 0.9474 - val_auc: 0.9863\n",
            "Epoch 3/20\n",
            "79/79 [==============================] - 60s 755ms/step - loss: 0.1805 - accuracy: 0.9381 - precision: 0.9381 - recall: 0.9381 - auc: 0.9837 - val_loss: 0.1344 - val_accuracy: 0.9583 - val_precision: 0.9583 - val_recall: 0.9583 - val_auc: 0.9911\n",
            "Epoch 4/20\n",
            "79/79 [==============================] - 62s 784ms/step - loss: 0.1602 - accuracy: 0.9466 - precision: 0.9466 - recall: 0.9466 - auc: 0.9853 - val_loss: 0.1170 - val_accuracy: 0.9647 - val_precision: 0.9647 - val_recall: 0.9647 - val_auc: 0.9919\n",
            "Epoch 5/20\n",
            "79/79 [==============================] - 65s 817ms/step - loss: 0.1442 - accuracy: 0.9501 - precision: 0.9501 - recall: 0.9501 - auc: 0.9886 - val_loss: 0.1075 - val_accuracy: 0.9686 - val_precision: 0.9686 - val_recall: 0.9686 - val_auc: 0.9922\n",
            "Epoch 6/20\n",
            "79/79 [==============================] - 60s 761ms/step - loss: 0.1332 - accuracy: 0.9565 - precision: 0.9565 - recall: 0.9565 - auc: 0.9890 - val_loss: 0.0999 - val_accuracy: 0.9673 - val_precision: 0.9673 - val_recall: 0.9673 - val_auc: 0.9931\n",
            "Epoch 7/20\n",
            "79/79 [==============================] - 64s 805ms/step - loss: 0.1270 - accuracy: 0.9552 - precision: 0.9552 - recall: 0.9552 - auc: 0.9903 - val_loss: 0.1019 - val_accuracy: 0.9692 - val_precision: 0.9692 - val_recall: 0.9692 - val_auc: 0.9905\n",
            "Epoch 8/20\n",
            "79/79 [==============================] - 59s 748ms/step - loss: 0.1125 - accuracy: 0.9649 - precision: 0.9649 - recall: 0.9649 - auc: 0.9917 - val_loss: 0.0943 - val_accuracy: 0.9686 - val_precision: 0.9686 - val_recall: 0.9686 - val_auc: 0.9934\n",
            "Epoch 9/20\n",
            "79/79 [==============================] - 67s 830ms/step - loss: 0.1042 - accuracy: 0.9651 - precision: 0.9651 - recall: 0.9651 - auc: 0.9931 - val_loss: 0.0984 - val_accuracy: 0.9654 - val_precision: 0.9654 - val_recall: 0.9654 - val_auc: 0.9914\n",
            "Epoch 10/20\n",
            "79/79 [==============================] - 67s 843ms/step - loss: 0.0997 - accuracy: 0.9675 - precision: 0.9675 - recall: 0.9675 - auc: 0.9937 - val_loss: 0.0871 - val_accuracy: 0.9718 - val_precision: 0.9718 - val_recall: 0.9718 - val_auc: 0.9933\n",
            "Epoch 11/20\n",
            "79/79 [==============================] - 68s 862ms/step - loss: 0.0935 - accuracy: 0.9689 - precision: 0.9689 - recall: 0.9689 - auc: 0.9943 - val_loss: 0.0808 - val_accuracy: 0.9737 - val_precision: 0.9737 - val_recall: 0.9737 - val_auc: 0.9943\n",
            "Epoch 12/20\n",
            "79/79 [==============================] - 61s 768ms/step - loss: 0.0959 - accuracy: 0.9651 - precision: 0.9651 - recall: 0.9651 - auc: 0.9942 - val_loss: 0.0829 - val_accuracy: 0.9718 - val_precision: 0.9718 - val_recall: 0.9718 - val_auc: 0.9935\n",
            "Epoch 13/20\n",
            "79/79 [==============================] - 66s 842ms/step - loss: 0.0915 - accuracy: 0.9675 - precision: 0.9675 - recall: 0.9675 - auc: 0.9948 - val_loss: 0.0822 - val_accuracy: 0.9731 - val_precision: 0.9731 - val_recall: 0.9731 - val_auc: 0.9936\n",
            "Epoch 14/20\n",
            "79/79 [==============================] - 61s 766ms/step - loss: 0.0893 - accuracy: 0.9702 - precision: 0.9702 - recall: 0.9702 - auc: 0.9951 - val_loss: 0.0827 - val_accuracy: 0.9744 - val_precision: 0.9744 - val_recall: 0.9744 - val_auc: 0.9930\n",
            "Epoch 15/20\n",
            "79/79 [==============================] - 60s 755ms/step - loss: 0.0878 - accuracy: 0.9694 - precision: 0.9694 - recall: 0.9694 - auc: 0.9948 - val_loss: 0.0821 - val_accuracy: 0.9744 - val_precision: 0.9744 - val_recall: 0.9744 - val_auc: 0.9941\n",
            "Epoch 16/20\n",
            "79/79 [==============================] - 60s 764ms/step - loss: 0.0874 - accuracy: 0.9687 - precision: 0.9687 - recall: 0.9687 - auc: 0.9944 - val_loss: 0.0808 - val_accuracy: 0.9756 - val_precision: 0.9756 - val_recall: 0.9756 - val_auc: 0.9919\n",
            "Epoch 17/20\n",
            "79/79 [==============================] - 60s 761ms/step - loss: 0.0833 - accuracy: 0.9730 - precision: 0.9730 - recall: 0.9730 - auc: 0.9943 - val_loss: 0.0776 - val_accuracy: 0.9776 - val_precision: 0.9776 - val_recall: 0.9776 - val_auc: 0.9928\n",
            "Epoch 18/20\n",
            "79/79 [==============================] - 60s 763ms/step - loss: 0.0727 - accuracy: 0.9776 - precision: 0.9776 - recall: 0.9776 - auc: 0.9961 - val_loss: 0.0772 - val_accuracy: 0.9776 - val_precision: 0.9776 - val_recall: 0.9776 - val_auc: 0.9928\n",
            "Epoch 19/20\n",
            "79/79 [==============================] - 65s 820ms/step - loss: 0.0750 - accuracy: 0.9759 - precision: 0.9759 - recall: 0.9759 - auc: 0.9959 - val_loss: 0.0800 - val_accuracy: 0.9737 - val_precision: 0.9737 - val_recall: 0.9737 - val_auc: 0.9914\n",
            "Epoch 20/20\n",
            "79/79 [==============================] - 60s 753ms/step - loss: 0.0768 - accuracy: 0.9738 - precision: 0.9738 - recall: 0.9738 - auc: 0.9954 - val_loss: 0.0785 - val_accuracy: 0.9744 - val_precision: 0.9744 - val_recall: 0.9744 - val_auc: 0.9932\n"
          ]
        }
      ]
    },
    {
      "cell_type": "code",
      "source": [
        "# https://drive.google.com/drive/folders/1-hkLWuflKAtd7iKRNwHIhaK-vTR5hoDQ?usp=sharing\n",
        "model_resnet.save('/content/drive/MyDrive/datathon_images_23/trained/resnet50_trained.h5')"
      ],
      "metadata": {
        "id": "O0ITXbkHO7ML"
      },
      "execution_count": null,
      "outputs": []
    },
    {
      "cell_type": "code",
      "source": [
        "# Load model\n",
        "# https://drive.google.com/drive/folders/1-hkLWuflKAtd7iKRNwHIhaK-vTR5hoDQ?usp=sharing\n",
        "model = load_model('/content/drive/MyDrive/datathon_images_23/trained/resnet50_trained.h5')"
      ],
      "metadata": {
        "id": "3kV1l3yZRI-Y"
      },
      "execution_count": null,
      "outputs": []
    },
    {
      "cell_type": "code",
      "source": [],
      "metadata": {
        "id": "z5Sp2ZbNXdhR"
      },
      "execution_count": null,
      "outputs": []
    },
    {
      "cell_type": "code",
      "source": [],
      "metadata": {
        "id": "ADKD1yWVXdkJ"
      },
      "execution_count": null,
      "outputs": []
    },
    {
      "cell_type": "code",
      "source": [
        "# Load the test data and labels"
      ],
      "metadata": {
        "id": "dBp3xVgxXdnY"
      },
      "execution_count": null,
      "outputs": []
    },
    {
      "cell_type": "code",
      "source": [
        "# Load the test data and labels\n",
        "le_1 = preprocessing.LabelEncoder()\n",
        "y_test_1 = le.fit_transform(y_test)\n",
        "y_test_1 = tf.keras.utils.to_categorical(y_test_1, num_classes=2)\n",
        "y_test_1 = np.array(y_test_1)"
      ],
      "metadata": {
        "id": "3ZXtRV6SkreU"
      },
      "execution_count": null,
      "outputs": []
    },
    {
      "cell_type": "code",
      "source": [
        "# Define the test data generator\n",
        "test_datagen = ImageDataGenerator(\n",
        "    preprocessing_function=preprocess_input\n",
        ")\n"
      ],
      "metadata": {
        "id": "keCrNifwXdqh"
      },
      "execution_count": null,
      "outputs": []
    },
    {
      "cell_type": "code",
      "source": [
        "# Generate augmented images for the test set\n",
        "test_generator = test_datagen.flow(\n",
        "    np.array(x_test), y_test,\n",
        "    batch_size=60,\n",
        "    shuffle=False\n",
        ")"
      ],
      "metadata": {
        "id": "HUnVvcp7ZlDr"
      },
      "execution_count": null,
      "outputs": []
    },
    {
      "cell_type": "code",
      "source": [
        "test_metrics = model_resnet.evaluate(test_datagen.flow(\n",
        "    np.array(x_test),y_test_1,\n",
        "    batch_size=60,\n",
        "    shuffle=False\n",
        ") )"
      ],
      "metadata": {
        "colab": {
          "base_uri": "https://localhost:8080/"
        },
        "id": "rqN49DgqhKnh",
        "outputId": "3a5cb9c6-c064-4c3f-c438-140513b6e915"
      },
      "execution_count": null,
      "outputs": [
        {
          "output_type": "stream",
          "name": "stdout",
          "text": [
            "27/27 [==============================] - 6s 219ms/step - loss: 0.0830 - accuracy: 0.9706 - precision: 0.9706 - recall: 0.9706 - auc: 0.9918\n"
          ]
        }
      ]
    },
    {
      "cell_type": "code",
      "source": [
        "test_metrics"
      ],
      "metadata": {
        "colab": {
          "base_uri": "https://localhost:8080/"
        },
        "id": "cF_fUYqyle97",
        "outputId": "210d197c-c0e3-4866-c0e1-987f7794d4a9"
      },
      "execution_count": null,
      "outputs": [
        {
          "output_type": "execute_result",
          "data": {
            "text/plain": [
              "[0.08302640914916992,\n",
              " 0.9706066250801086,\n",
              " 0.9706066250801086,\n",
              " 0.9706066250801086,\n",
              " 0.9918256998062134]"
            ]
          },
          "metadata": {},
          "execution_count": 37
        }
      ]
    },
    {
      "cell_type": "code",
      "source": [],
      "metadata": {
        "id": "r-TGSeeAryGs"
      },
      "execution_count": null,
      "outputs": []
    },
    {
      "cell_type": "code",
      "source": [],
      "metadata": {
        "id": "SP247BbUw2Bc"
      },
      "execution_count": null,
      "outputs": []
    },
    {
      "cell_type": "code",
      "source": [
        "def decode_binary_predictions(preds, top=1):\n",
        "    # Return top predicted class label and score for binary classification\n",
        "    class_indices = ['AI Generated', 'No AI Generated']  # Replace with your actual class labels\n",
        "    results = []\n",
        "    for pred in preds:\n",
        "        top_indices = pred.argsort()[-top:][::-1]\n",
        "        result = [(class_indices[i], pred[i]) for i in top_indices]\n",
        "        results.append(result)\n",
        "    return results"
      ],
      "metadata": {
        "id": "CYyCmihyw2EL"
      },
      "execution_count": null,
      "outputs": []
    },
    {
      "cell_type": "code",
      "source": [
        "# Load image\n",
        "#img = cv2.imread('/content/drive/MyDrive/datathon_images_23/no_rt/10517.jpg') \n",
        "#img = cv2.imread('/content/drive/MyDrive/datathon_images_23/rt/10210.jpg')\n",
        "img = cv2.imread('/content/drive/MyDrive/datathon_images_23/AI/2047.jpg')\n",
        "img = cv2.resize(img,(224,224))\n",
        "img_np = np.array(img) \n",
        " "
      ],
      "metadata": {
        "id": "liRie2LFs9OE"
      },
      "execution_count": null,
      "outputs": []
    },
    {
      "cell_type": "code",
      "source": [
        "# Preprocessing\n",
        "img_batch = np.expand_dims(img_np, axis = 0)\n",
        "processed_image = preprocess_input(img_batch.copy()) "
      ],
      "metadata": {
        "id": "0EQ4AR6iw2lV"
      },
      "execution_count": null,
      "outputs": []
    },
    {
      "cell_type": "code",
      "source": [
        "predictions = model.predict(processed_image) \n",
        "predictions"
      ],
      "metadata": {
        "colab": {
          "base_uri": "https://localhost:8080/"
        },
        "id": "P8kK_j0Tvui2",
        "outputId": "1ca2b7a3-7e8c-4a02-941e-41bd79ba078a"
      },
      "execution_count": null,
      "outputs": [
        {
          "output_type": "stream",
          "name": "stdout",
          "text": [
            "1/1 [==============================] - 0s 188ms/step\n"
          ]
        },
        {
          "output_type": "execute_result",
          "data": {
            "text/plain": [
              "array([[1.0000000e+00, 3.1215173e-11]], dtype=float32)"
            ]
          },
          "metadata": {},
          "execution_count": 112
        }
      ]
    },
    {
      "cell_type": "code",
      "source": [
        "decoded_preds = decode_binary_predictions(predictions, top=1)\n",
        "print(decoded_preds)"
      ],
      "metadata": {
        "colab": {
          "base_uri": "https://localhost:8080/"
        },
        "id": "2Z6MPs0W0Qn8",
        "outputId": "9eb0613f-e342-4e99-c002-5d92d19f47c0"
      },
      "execution_count": null,
      "outputs": [
        {
          "output_type": "stream",
          "name": "stdout",
          "text": [
            "[[('AI Generated', 1.0)]]\n"
          ]
        }
      ]
    },
    {
      "cell_type": "code",
      "source": [],
      "metadata": {
        "id": "hi4wF1_k0U12"
      },
      "execution_count": null,
      "outputs": []
    }
  ]
}